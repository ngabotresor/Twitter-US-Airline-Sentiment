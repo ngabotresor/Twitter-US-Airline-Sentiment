{
 "cells": [
  {
   "cell_type": "markdown",
   "id": "448569ca",
   "metadata": {},
   "source": [
    "# Import the libraries that will be needed for this task."
   ]
  },
  {
   "cell_type": "code",
   "execution_count": 1,
   "id": "f83369db",
   "metadata": {},
   "outputs": [
    {
     "name": "stderr",
     "output_type": "stream",
     "text": [
      "[nltk_data] Downloading package stopwords to\n",
      "[nltk_data]     C:\\Users\\Hp\\AppData\\Roaming\\nltk_data...\n",
      "[nltk_data]   Package stopwords is already up-to-date!\n"
     ]
    }
   ],
   "source": [
    "\n",
    "import pandas as pd \n",
    "import numpy as np\n",
    "import matplotlib.pyplot as plt\n",
    "%matplotlib inline\n",
    "import seaborn as sns\n",
    "import re\n",
    "import nltk\n",
    "nltk.download('stopwords')\n",
    "from nltk.corpus import stopwords\n",
    "from sklearn.feature_extraction.text import TfidfVectorizer\n",
    "from sklearn.model_selection import train_test_split\n",
    "from sklearn.ensemble import RandomForestClassifier\n",
    "from sklearn.metrics import confusion_matrix, accuracy_score\n",
    "from sklearn.linear_model import LogisticRegression\n",
    "import sklearn.metrics as metrics\n",
    "from sklearn.svm import SVC\n",
    "\n"
   ]
  },
  {
   "cell_type": "code",
   "execution_count": 2,
   "id": "1dd931b4",
   "metadata": {},
   "outputs": [
    {
     "data": {
      "text/html": [
       "<div>\n",
       "<style scoped>\n",
       "    .dataframe tbody tr th:only-of-type {\n",
       "        vertical-align: middle;\n",
       "    }\n",
       "\n",
       "    .dataframe tbody tr th {\n",
       "        vertical-align: top;\n",
       "    }\n",
       "\n",
       "    .dataframe thead th {\n",
       "        text-align: right;\n",
       "    }\n",
       "</style>\n",
       "<table border=\"1\" class=\"dataframe\">\n",
       "  <thead>\n",
       "    <tr style=\"text-align: right;\">\n",
       "      <th></th>\n",
       "      <th>tweet_id</th>\n",
       "      <th>airline_sentiment</th>\n",
       "      <th>airline_sentiment_confidence</th>\n",
       "      <th>negativereason</th>\n",
       "      <th>negativereason_confidence</th>\n",
       "      <th>airline</th>\n",
       "      <th>airline_sentiment_gold</th>\n",
       "      <th>name</th>\n",
       "      <th>negativereason_gold</th>\n",
       "      <th>retweet_count</th>\n",
       "      <th>text</th>\n",
       "      <th>tweet_coord</th>\n",
       "      <th>tweet_created</th>\n",
       "      <th>tweet_location</th>\n",
       "      <th>user_timezone</th>\n",
       "    </tr>\n",
       "  </thead>\n",
       "  <tbody>\n",
       "    <tr>\n",
       "      <th>0</th>\n",
       "      <td>570306133677760513</td>\n",
       "      <td>neutral</td>\n",
       "      <td>1.0000</td>\n",
       "      <td>NaN</td>\n",
       "      <td>NaN</td>\n",
       "      <td>Virgin America</td>\n",
       "      <td>NaN</td>\n",
       "      <td>cairdin</td>\n",
       "      <td>NaN</td>\n",
       "      <td>0</td>\n",
       "      <td>@VirginAmerica What @dhepburn said.</td>\n",
       "      <td>NaN</td>\n",
       "      <td>2015-02-24 11:35:52 -0800</td>\n",
       "      <td>NaN</td>\n",
       "      <td>Eastern Time (US &amp; Canada)</td>\n",
       "    </tr>\n",
       "    <tr>\n",
       "      <th>1</th>\n",
       "      <td>570301130888122368</td>\n",
       "      <td>positive</td>\n",
       "      <td>0.3486</td>\n",
       "      <td>NaN</td>\n",
       "      <td>0.0000</td>\n",
       "      <td>Virgin America</td>\n",
       "      <td>NaN</td>\n",
       "      <td>jnardino</td>\n",
       "      <td>NaN</td>\n",
       "      <td>0</td>\n",
       "      <td>@VirginAmerica plus you've added commercials t...</td>\n",
       "      <td>NaN</td>\n",
       "      <td>2015-02-24 11:15:59 -0800</td>\n",
       "      <td>NaN</td>\n",
       "      <td>Pacific Time (US &amp; Canada)</td>\n",
       "    </tr>\n",
       "    <tr>\n",
       "      <th>2</th>\n",
       "      <td>570301083672813571</td>\n",
       "      <td>neutral</td>\n",
       "      <td>0.6837</td>\n",
       "      <td>NaN</td>\n",
       "      <td>NaN</td>\n",
       "      <td>Virgin America</td>\n",
       "      <td>NaN</td>\n",
       "      <td>yvonnalynn</td>\n",
       "      <td>NaN</td>\n",
       "      <td>0</td>\n",
       "      <td>@VirginAmerica I didn't today... Must mean I n...</td>\n",
       "      <td>NaN</td>\n",
       "      <td>2015-02-24 11:15:48 -0800</td>\n",
       "      <td>Lets Play</td>\n",
       "      <td>Central Time (US &amp; Canada)</td>\n",
       "    </tr>\n",
       "    <tr>\n",
       "      <th>3</th>\n",
       "      <td>570301031407624196</td>\n",
       "      <td>negative</td>\n",
       "      <td>1.0000</td>\n",
       "      <td>Bad Flight</td>\n",
       "      <td>0.7033</td>\n",
       "      <td>Virgin America</td>\n",
       "      <td>NaN</td>\n",
       "      <td>jnardino</td>\n",
       "      <td>NaN</td>\n",
       "      <td>0</td>\n",
       "      <td>@VirginAmerica it's really aggressive to blast...</td>\n",
       "      <td>NaN</td>\n",
       "      <td>2015-02-24 11:15:36 -0800</td>\n",
       "      <td>NaN</td>\n",
       "      <td>Pacific Time (US &amp; Canada)</td>\n",
       "    </tr>\n",
       "    <tr>\n",
       "      <th>4</th>\n",
       "      <td>570300817074462722</td>\n",
       "      <td>negative</td>\n",
       "      <td>1.0000</td>\n",
       "      <td>Can't Tell</td>\n",
       "      <td>1.0000</td>\n",
       "      <td>Virgin America</td>\n",
       "      <td>NaN</td>\n",
       "      <td>jnardino</td>\n",
       "      <td>NaN</td>\n",
       "      <td>0</td>\n",
       "      <td>@VirginAmerica and it's a really big bad thing...</td>\n",
       "      <td>NaN</td>\n",
       "      <td>2015-02-24 11:14:45 -0800</td>\n",
       "      <td>NaN</td>\n",
       "      <td>Pacific Time (US &amp; Canada)</td>\n",
       "    </tr>\n",
       "    <tr>\n",
       "      <th>5</th>\n",
       "      <td>570300767074181121</td>\n",
       "      <td>negative</td>\n",
       "      <td>1.0000</td>\n",
       "      <td>Can't Tell</td>\n",
       "      <td>0.6842</td>\n",
       "      <td>Virgin America</td>\n",
       "      <td>NaN</td>\n",
       "      <td>jnardino</td>\n",
       "      <td>NaN</td>\n",
       "      <td>0</td>\n",
       "      <td>@VirginAmerica seriously would pay $30 a fligh...</td>\n",
       "      <td>NaN</td>\n",
       "      <td>2015-02-24 11:14:33 -0800</td>\n",
       "      <td>NaN</td>\n",
       "      <td>Pacific Time (US &amp; Canada)</td>\n",
       "    </tr>\n",
       "    <tr>\n",
       "      <th>6</th>\n",
       "      <td>570300616901320704</td>\n",
       "      <td>positive</td>\n",
       "      <td>0.6745</td>\n",
       "      <td>NaN</td>\n",
       "      <td>0.0000</td>\n",
       "      <td>Virgin America</td>\n",
       "      <td>NaN</td>\n",
       "      <td>cjmcginnis</td>\n",
       "      <td>NaN</td>\n",
       "      <td>0</td>\n",
       "      <td>@VirginAmerica yes, nearly every time I fly VX...</td>\n",
       "      <td>NaN</td>\n",
       "      <td>2015-02-24 11:13:57 -0800</td>\n",
       "      <td>San Francisco CA</td>\n",
       "      <td>Pacific Time (US &amp; Canada)</td>\n",
       "    </tr>\n",
       "    <tr>\n",
       "      <th>7</th>\n",
       "      <td>570300248553349120</td>\n",
       "      <td>neutral</td>\n",
       "      <td>0.6340</td>\n",
       "      <td>NaN</td>\n",
       "      <td>NaN</td>\n",
       "      <td>Virgin America</td>\n",
       "      <td>NaN</td>\n",
       "      <td>pilot</td>\n",
       "      <td>NaN</td>\n",
       "      <td>0</td>\n",
       "      <td>@VirginAmerica Really missed a prime opportuni...</td>\n",
       "      <td>NaN</td>\n",
       "      <td>2015-02-24 11:12:29 -0800</td>\n",
       "      <td>Los Angeles</td>\n",
       "      <td>Pacific Time (US &amp; Canada)</td>\n",
       "    </tr>\n",
       "    <tr>\n",
       "      <th>8</th>\n",
       "      <td>570299953286942721</td>\n",
       "      <td>positive</td>\n",
       "      <td>0.6559</td>\n",
       "      <td>NaN</td>\n",
       "      <td>NaN</td>\n",
       "      <td>Virgin America</td>\n",
       "      <td>NaN</td>\n",
       "      <td>dhepburn</td>\n",
       "      <td>NaN</td>\n",
       "      <td>0</td>\n",
       "      <td>@virginamerica Well, I didn't…but NOW I DO! :-D</td>\n",
       "      <td>NaN</td>\n",
       "      <td>2015-02-24 11:11:19 -0800</td>\n",
       "      <td>San Diego</td>\n",
       "      <td>Pacific Time (US &amp; Canada)</td>\n",
       "    </tr>\n",
       "    <tr>\n",
       "      <th>9</th>\n",
       "      <td>570295459631263746</td>\n",
       "      <td>positive</td>\n",
       "      <td>1.0000</td>\n",
       "      <td>NaN</td>\n",
       "      <td>NaN</td>\n",
       "      <td>Virgin America</td>\n",
       "      <td>NaN</td>\n",
       "      <td>YupitsTate</td>\n",
       "      <td>NaN</td>\n",
       "      <td>0</td>\n",
       "      <td>@VirginAmerica it was amazing, and arrived an ...</td>\n",
       "      <td>NaN</td>\n",
       "      <td>2015-02-24 10:53:27 -0800</td>\n",
       "      <td>Los Angeles</td>\n",
       "      <td>Eastern Time (US &amp; Canada)</td>\n",
       "    </tr>\n",
       "  </tbody>\n",
       "</table>\n",
       "</div>"
      ],
      "text/plain": [
       "             tweet_id airline_sentiment  airline_sentiment_confidence  \\\n",
       "0  570306133677760513           neutral                        1.0000   \n",
       "1  570301130888122368          positive                        0.3486   \n",
       "2  570301083672813571           neutral                        0.6837   \n",
       "3  570301031407624196          negative                        1.0000   \n",
       "4  570300817074462722          negative                        1.0000   \n",
       "5  570300767074181121          negative                        1.0000   \n",
       "6  570300616901320704          positive                        0.6745   \n",
       "7  570300248553349120           neutral                        0.6340   \n",
       "8  570299953286942721          positive                        0.6559   \n",
       "9  570295459631263746          positive                        1.0000   \n",
       "\n",
       "  negativereason  negativereason_confidence         airline  \\\n",
       "0            NaN                        NaN  Virgin America   \n",
       "1            NaN                     0.0000  Virgin America   \n",
       "2            NaN                        NaN  Virgin America   \n",
       "3     Bad Flight                     0.7033  Virgin America   \n",
       "4     Can't Tell                     1.0000  Virgin America   \n",
       "5     Can't Tell                     0.6842  Virgin America   \n",
       "6            NaN                     0.0000  Virgin America   \n",
       "7            NaN                        NaN  Virgin America   \n",
       "8            NaN                        NaN  Virgin America   \n",
       "9            NaN                        NaN  Virgin America   \n",
       "\n",
       "  airline_sentiment_gold        name negativereason_gold  retweet_count  \\\n",
       "0                    NaN     cairdin                 NaN              0   \n",
       "1                    NaN    jnardino                 NaN              0   \n",
       "2                    NaN  yvonnalynn                 NaN              0   \n",
       "3                    NaN    jnardino                 NaN              0   \n",
       "4                    NaN    jnardino                 NaN              0   \n",
       "5                    NaN    jnardino                 NaN              0   \n",
       "6                    NaN  cjmcginnis                 NaN              0   \n",
       "7                    NaN       pilot                 NaN              0   \n",
       "8                    NaN    dhepburn                 NaN              0   \n",
       "9                    NaN  YupitsTate                 NaN              0   \n",
       "\n",
       "                                                text tweet_coord  \\\n",
       "0                @VirginAmerica What @dhepburn said.         NaN   \n",
       "1  @VirginAmerica plus you've added commercials t...         NaN   \n",
       "2  @VirginAmerica I didn't today... Must mean I n...         NaN   \n",
       "3  @VirginAmerica it's really aggressive to blast...         NaN   \n",
       "4  @VirginAmerica and it's a really big bad thing...         NaN   \n",
       "5  @VirginAmerica seriously would pay $30 a fligh...         NaN   \n",
       "6  @VirginAmerica yes, nearly every time I fly VX...         NaN   \n",
       "7  @VirginAmerica Really missed a prime opportuni...         NaN   \n",
       "8    @virginamerica Well, I didn't…but NOW I DO! :-D         NaN   \n",
       "9  @VirginAmerica it was amazing, and arrived an ...         NaN   \n",
       "\n",
       "               tweet_created    tweet_location               user_timezone  \n",
       "0  2015-02-24 11:35:52 -0800               NaN  Eastern Time (US & Canada)  \n",
       "1  2015-02-24 11:15:59 -0800               NaN  Pacific Time (US & Canada)  \n",
       "2  2015-02-24 11:15:48 -0800         Lets Play  Central Time (US & Canada)  \n",
       "3  2015-02-24 11:15:36 -0800               NaN  Pacific Time (US & Canada)  \n",
       "4  2015-02-24 11:14:45 -0800               NaN  Pacific Time (US & Canada)  \n",
       "5  2015-02-24 11:14:33 -0800               NaN  Pacific Time (US & Canada)  \n",
       "6  2015-02-24 11:13:57 -0800  San Francisco CA  Pacific Time (US & Canada)  \n",
       "7  2015-02-24 11:12:29 -0800       Los Angeles  Pacific Time (US & Canada)  \n",
       "8  2015-02-24 11:11:19 -0800         San Diego  Pacific Time (US & Canada)  \n",
       "9  2015-02-24 10:53:27 -0800       Los Angeles  Eastern Time (US & Canada)  "
      ]
     },
     "execution_count": 2,
     "metadata": {},
     "output_type": "execute_result"
    }
   ],
   "source": [
    "# reading the dataset and display the top 10\n",
    "airline_tweter_data = pd.read_csv(\"Tweets.csv\")\n",
    "airline_tweter_data.head(10)"
   ]
  },
  {
   "cell_type": "code",
   "execution_count": 3,
   "id": "4ccf14c6",
   "metadata": {},
   "outputs": [
    {
     "data": {
      "text/plain": [
       "0         neutral\n",
       "1        positive\n",
       "2         neutral\n",
       "3        negative\n",
       "4        negative\n",
       "           ...   \n",
       "14635    positive\n",
       "14636    negative\n",
       "14637     neutral\n",
       "14638    negative\n",
       "14639     neutral\n",
       "Name: airline_sentiment, Length: 14640, dtype: object"
      ]
     },
     "execution_count": 3,
     "metadata": {},
     "output_type": "execute_result"
    }
   ],
   "source": [
    "airline_tweter_data['airline_sentiment']"
   ]
  },
  {
   "cell_type": "markdown",
   "id": "5f86c353",
   "metadata": {},
   "source": [
    "Let's explore the dataset a bit to see if we can find any trends. But before that, we will change the default plot size to have a better view of the plots."
   ]
  },
  {
   "cell_type": "markdown",
   "id": "0729c547",
   "metadata": {},
   "source": [
    "Exploration Of Data"
   ]
  },
  {
   "cell_type": "markdown",
   "id": "6ade852e",
   "metadata": {},
   "source": [
    "Let's first see the number of tweets for each airline. We will plot a pie chart for that:"
   ]
  },
  {
   "cell_type": "code",
   "execution_count": 4,
   "id": "7d2daf35",
   "metadata": {},
   "outputs": [],
   "source": [
    "# set one size for all plots \n",
    "\n",
    "plt.rcParams[\"figure.figsize\"] = (10,6)\n"
   ]
  },
  {
   "cell_type": "markdown",
   "id": "81e03957",
   "metadata": {},
   "source": [
    "# let's Perform a comprehensive Exploratory Data Analysis on the dataset."
   ]
  },
  {
   "cell_type": "code",
   "execution_count": 5,
   "id": "4035c760",
   "metadata": {
    "scrolled": false
   },
   "outputs": [
    {
     "data": {
      "text/plain": [
       "<AxesSubplot:ylabel='airline'>"
      ]
     },
     "execution_count": 5,
     "metadata": {},
     "output_type": "execute_result"
    },
    {
     "data": {
      "image/png": "[encoded data removed]",
      "text/plain": [
       "<Figure size 720x432 with 1 Axes>"
      ]
     },
     "metadata": {},
     "output_type": "display_data"
    }
   ],
   "source": [
    "#airline_tweter_data.airline.value_counts().plot(kind='pie', autopct='%1.0f%%')\n",
    "\n",
    "airline_tweter_data.airline.str.get_dummies().sum().plot.pie(label='airline', autopct='%1.0f%%')"
   ]
  },
  {
   "cell_type": "markdown",
   "id": "8eeb94a8",
   "metadata": {},
   "source": [
    "The percentage of public tweets for each airline is represented in the above pie chart. United Airlines has the most tweets 26% and US Airways has the second-most 20% while Virgin America has a lower proportion of public tweets with 3%."
   ]
  },
  {
   "cell_type": "markdown",
   "id": "e339284a",
   "metadata": {},
   "source": [
    "# Let's now see the distribution of sentiments across all the tweets."
   ]
  },
  {
   "cell_type": "code",
   "execution_count": 6,
   "id": "948c7068",
   "metadata": {},
   "outputs": [
    {
     "data": {
      "text/plain": [
       "<AxesSubplot:ylabel='airline_sentimental'>"
      ]
     },
     "execution_count": 6,
     "metadata": {},
     "output_type": "execute_result"
    },
    {
     "data": {
      "image/png": "[encoded data removed]",
      "text/plain": [
       "<Figure size 720x432 with 1 Axes>"
      ]
     },
     "metadata": {},
     "output_type": "display_data"
    }
   ],
   "source": [
    "# airline_tweter_data.airline_sentiment.value_counts().plot(kind='pie', autopct='%1.0f%%', colors=[\"red\", \"yellow\", \"green\"])\n",
    "\n",
    "airline_tweter_data.airline_sentiment.str.get_dummies().sum().plot.pie(label='airline_sentimental', autopct='%1.0f%%')"
   ]
  },
  {
   "cell_type": "markdown",
   "id": "48e93d7e",
   "metadata": {},
   "source": [
    "According to the graph above, 63% of tweets regarding US airlines are negative, while 16 and 21 percent are positive and neutral."
   ]
  },
  {
   "cell_type": "code",
   "execution_count": 7,
   "id": "6fdf8047",
   "metadata": {},
   "outputs": [
    {
     "data": {
      "text/plain": [
       "<AxesSubplot:xlabel='airline'>"
      ]
     },
     "execution_count": 7,
     "metadata": {},
     "output_type": "execute_result"
    },
    {
     "data": {
      "image/png": "[encoded data removed]",
      "text/plain": [
       "<Figure size 720x432 with 1 Axes>"
      ]
     },
     "metadata": {
      "needs_background": "light"
     },
     "output_type": "display_data"
    }
   ],
   "source": [
    "airline_sentiment = airline_tweter_data.groupby(['airline', 'airline_sentiment']).airline_sentiment.count().unstack()\n",
    "#airline_sentiment\n",
    "airline_sentiment.plot(kind='bar')\n",
    "\n",
    "#airline_sentiment.plot(kind='bar',y='airline_sentiment')"
   ]
  },
  {
   "cell_type": "markdown",
   "id": "a59e5551",
   "metadata": {},
   "source": [
    "The graph displayed for most airlines shows that the majority of tweets are negative, followed by neutral, and positive is the lowest value, but Virgin America stands out by having nearly identical sentimental values.  "
   ]
  },
  {
   "cell_type": "markdown",
   "id": "52facb96",
   "metadata": {},
   "source": [
    "let's view the average confidence level for the tweets belonging to three sentiment categories."
   ]
  },
  {
   "cell_type": "code",
   "execution_count": 8,
   "id": "3e18e3d9",
   "metadata": {},
   "outputs": [
    {
     "data": {
      "text/plain": [
       "<AxesSubplot:xlabel='airline_sentiment', ylabel='airline_sentiment_confidence'>"
      ]
     },
     "execution_count": 8,
     "metadata": {},
     "output_type": "execute_result"
    },
    {
     "data": {
      "image/png": "[encoded data removed]",
      "text/plain": [
       "<Figure size 720x432 with 1 Axes>"
      ]
     },
     "metadata": {
      "needs_background": "light"
     },
     "output_type": "display_data"
    }
   ],
   "source": [
    "\n",
    "sns.barplot(x = 'airline_sentiment',y = 'airline_sentiment_confidence', data = airline_tweter_data )\n",
    "\n"
   ]
  },
  {
   "cell_type": "markdown",
   "id": "c5f87af7",
   "metadata": {},
   "source": [
    "According to the result for airline sentiment confidence, negative sentiment is the most predominant when compared to neutral and positive sentiment."
   ]
  },
  {
   "cell_type": "markdown",
   "id": "8d9d760a",
   "metadata": {},
   "source": [
    "# Data Cleaning"
   ]
  },
  {
   "cell_type": "markdown",
   "id": "a793cb2c",
   "metadata": {},
   "source": [
    "meaningless words appear in tweets. Before we can train the machine learning model, we need to clean up our tweets.\n",
    "Let us separate our dataset into feature and label sets before cleaning the tweets."
   ]
  },
  {
   "cell_type": "markdown",
   "id": "9ae8ab94",
   "metadata": {},
   "source": [
    "Tweets content can be found on the 11th column index, whereas sentiment labels can be found on the 1st column index from the dataset."
   ]
  },
  {
   "cell_type": "code",
   "execution_count": 9,
   "id": "be6afec8",
   "metadata": {},
   "outputs": [],
   "source": [
    "features = airline_tweter_data.iloc[:, 10].values\n",
    "labels = airline_tweter_data.iloc[:, 1].values\n"
   ]
  },
  {
   "cell_type": "markdown",
   "id": "21d6a080",
   "metadata": {},
   "source": [
    "Once we divide the data into features and training set, we can preprocess data in order to clean it."
   ]
  },
  {
   "cell_type": "code",
   "execution_count": 10,
   "id": "ce4b1888",
   "metadata": {},
   "outputs": [],
   "source": [
    "#To remove noisy data from our features(tweets), we apply regular expressions.\n",
    "processing_features = []\n",
    "\n",
    "for words in range(0, len(features)):\n",
    "    # To begin, all special characters in tweets are removed. re.sub(r'W',\", str(features[sentence]) does this.\n",
    "    processing_feature = re.sub(r'\\W', ' ', str(features[words]))\n",
    "\n",
    "    #Using the re.sub(r's+[a-zA-Z]s+',\", processed feature) regular expression, we delete all single characters that remain after deleting the special character. For example, if we substitute the special character'with a space, we get Jack s. Because the letter s has no meaning here, we replace it with a space.\n",
    "    processing_feature= re.sub(r'\\s+[a-zA-Z]\\s+', ' ', processing_feature)\n",
    "\n",
    "    # Remove single characters from the start\n",
    "    processing_feature = re.sub(r'\\^[a-zA-Z]\\s+', ' ', processing_feature) \n",
    "\n",
    "    # When we replace all single characters with spaces, we get multiple spaces. As a result, we use the re.sub(r's+',\", processed feature, flags=re.I) regex to replace all the multiple spaces with single spaces.\n",
    "    processing_feature = re.sub(r'\\s+', ' ', processing_feature, flags=re.I)\n",
    "\n",
    "    # A character b is inserted to the end of your text string if it is in bytes format. re.sub(r'bs+', \", processed feature) can be used to delete it.\n",
    "    processing_feature = re.sub(r'^b\\s+', '', processing_feature) #Stemming \n",
    "\n",
    "    # The lower() function is used to convert the text to lowercase.\n",
    "    processing_feature = processing_feature.lower()\n",
    "    \n",
    "    #to an empty list, attach the processed features\n",
    "    processing_features.append(processing_feature)\n"
   ]
  },
  {
   "cell_type": "markdown",
   "id": "fd9ac2bc",
   "metadata": {},
   "source": [
    "In order to train machine learning models, statistical algorithms are used. Mathematics, on the other hand, only work with numbers. We must first transform text to numbers in order to use statistical algorithms with text. We'll apply TF-IDF methods to accomplish this."
   ]
  },
  {
   "cell_type": "markdown",
   "id": "2fafb694",
   "metadata": {},
   "source": [
    "# TF-IDF\n",
    "\n",
    "TF-IDF is a word that combines two terms. Inverse Document Frequency and Term Frequency They may be calculated using the following formula:\n",
    "\n",
    "TF = (Word Frequency in the Document)/ (Total words in the document)\n",
    "\n",
    "IDF = Log((Total number of documents)/(Number of documents that contain the word))"
   ]
  },
  {
   "cell_type": "markdown",
   "id": "d3b7ea1a",
   "metadata": {},
   "source": [
    "# Using the Scikit-Learn Library to create a TF-IDF\n",
    "\n",
    "The TfidfVectorizer class in Python's Scikit-Learn module can be used to convert text features into TF-IDF feature vectors."
   ]
  },
  {
   "cell_type": "code",
   "execution_count": 11,
   "id": "83bdd9b9",
   "metadata": {},
   "outputs": [],
   "source": [
    "# vectorizer = TfidfVectorizer (max_features=2500, min_df=7, max_df=0.8, stop_words=stopwords.words('english'))\n",
    "# processing_features = vectorizer.fit_transform(processing_features).toarray()"
   ]
  },
  {
   "cell_type": "code",
   "execution_count": 12,
   "id": "bd14a31c",
   "metadata": {},
   "outputs": [],
   "source": [
    "\n",
    "\n",
    "vectorizer = TfidfVectorizer (max_features=2500, min_df=7, max_df=0.8, stop_words=stopwords.words('english'))\n",
    "processed_features = vectorizer.fit_transform(processing_features) #.toarray()"
   ]
  },
  {
   "cell_type": "code",
   "execution_count": null,
   "id": "dfe5b2bd",
   "metadata": {},
   "outputs": [],
   "source": []
  },
  {
   "cell_type": "markdown",
   "id": "4285dc10",
   "metadata": {},
   "source": [
    "# Dividing Data into Training and Test Sets\n",
    "Our data must be divided into training and testing sets. The training set will be used to train the algorithm, and the test set will be used to evaluate the machine learning model's performance."
   ]
  },
  {
   "cell_type": "code",
   "execution_count": 13,
   "id": "38cca194",
   "metadata": {},
   "outputs": [],
   "source": [
    "# Our test size parameter was set to 0.2, which means that our data set will be divided into two groups, each with 80% and 20% of the data. For training, we'll use 80% of the dataset, and for testing, we'll use 20%.\n",
    "X_train, X_test, y_train, y_test = train_test_split(processed_features, labels, test_size=0.2, random_state=0)"
   ]
  },
  {
   "cell_type": "markdown",
   "id": "26dfa05b",
   "metadata": {},
   "source": [
    "# Implementing RandomForestClassifier algorithm"
   ]
  },
  {
   "cell_type": "markdown",
   "id": "07a251ca",
   "metadata": {},
   "source": [
    "# TO train the model\n",
    "The RandomForestClassifier class in the sklearn.ensemble module can be used to train machine learning models using the random forest algorithm. To do so, we must use the RandomForestClassifier class's fit method and feed it our training features and labels as parameters."
   ]
  },
  {
   "cell_type": "code",
   "execution_count": 14,
   "id": "4c4ff2cc",
   "metadata": {},
   "outputs": [
    {
     "data": {
      "text/plain": [
       "RandomForestClassifier(n_estimators=250, random_state=0)"
      ]
     },
     "execution_count": 14,
     "metadata": {},
     "output_type": "execute_result"
    }
   ],
   "source": [
    "\n",
    "words_classifier = RandomForestClassifier(n_estimators=250, random_state=0)\n",
    "words_classifier.fit(X_train, y_train)"
   ]
  },
  {
   "cell_type": "markdown",
   "id": "98be7d08",
   "metadata": {},
   "source": [
    "# Make the Prediction"
   ]
  },
  {
   "cell_type": "code",
   "execution_count": 15,
   "id": "21f8ee96",
   "metadata": {},
   "outputs": [],
   "source": [
    "#The final phase is to make predictions on the model after it has been trained. To do so, we must use the predict() function on the RandomForestClassifier class object that we used for training.\n",
    "prediction = words_classifier.predict(X_test)"
   ]
  },
  {
   "cell_type": "markdown",
   "id": "b9b18bd5",
   "metadata": {},
   "source": [
    "# Evaluating the model"
   ]
  },
  {
   "cell_type": "code",
   "execution_count": 16,
   "id": "91a62573",
   "metadata": {},
   "outputs": [
    {
     "name": "stdout",
     "output_type": "stream",
     "text": [
      "[[1723  107   40]\n",
      " [ 325  248   41]\n",
      " [ 134   58  252]] \n",
      "\n",
      "accuracy score 0.7592213114754098\n"
     ]
    }
   ],
   "source": [
    "#Finally, classification measures such as a confusion metrix and accuracy can be used to assess the performance of machine learning models.\n",
    "\n",
    "print(confusion_matrix(y_test,prediction),'\\n')\n",
    "\n",
    "\n",
    "print('accuracy score',accuracy_score(y_test, prediction))\n"
   ]
  },
  {
   "cell_type": "code",
   "execution_count": null,
   "id": "1b4e84c8",
   "metadata": {},
   "outputs": [],
   "source": []
  },
  {
   "cell_type": "markdown",
   "id": "b2cde2dc",
   "metadata": {},
   "source": [
    "# Implementing LogisticRegression algorithm"
   ]
  },
  {
   "cell_type": "markdown",
   "id": "90ebb90a",
   "metadata": {},
   "source": [
    "# Training the Algorithm"
   ]
  },
  {
   "cell_type": "code",
   "execution_count": 17,
   "id": "01c7180e",
   "metadata": {},
   "outputs": [],
   "source": [
    "LR = LogisticRegression(random_state=0, solver='lbfgs', multi_class='ovr').fit(X_train, y_train)"
   ]
  },
  {
   "cell_type": "markdown",
   "id": "e1bafd33",
   "metadata": {},
   "source": [
    "# Making Predictions"
   ]
  },
  {
   "cell_type": "code",
   "execution_count": 18,
   "id": "f68c1d3d",
   "metadata": {},
   "outputs": [],
   "source": [
    "y_pred_lr = LR.predict(X_test)\n"
   ]
  },
  {
   "cell_type": "markdown",
   "id": "8e824f84",
   "metadata": {},
   "source": [
    "# Evaluating the model"
   ]
  },
  {
   "cell_type": "code",
   "execution_count": 19,
   "id": "51ac967e",
   "metadata": {},
   "outputs": [
    {
     "name": "stdout",
     "output_type": "stream",
     "text": [
      "Accuracy score: 0.7793715846994536\n"
     ]
    }
   ],
   "source": [
    "print(\"Accuracy score:\",metrics.accuracy_score(y_test, y_pred_lr))\n"
   ]
  },
  {
   "cell_type": "code",
   "execution_count": null,
   "id": "8742f233",
   "metadata": {},
   "outputs": [],
   "source": []
  },
  {
   "cell_type": "markdown",
   "id": "e55a85e8",
   "metadata": {},
   "source": [
    "# Implementing SVM algorithm"
   ]
  },
  {
   "cell_type": "markdown",
   "id": "6d9a7ebe",
   "metadata": {},
   "source": [
    "# Training the Algorithm"
   ]
  },
  {
   "cell_type": "code",
   "execution_count": 20,
   "id": "e88c7398",
   "metadata": {},
   "outputs": [
    {
     "data": {
      "text/plain": [
       "SVC(kernel='linear')"
      ]
     },
     "execution_count": 20,
     "metadata": {},
     "output_type": "execute_result"
    }
   ],
   "source": [
    "\n",
    "svclassifier = SVC(kernel='linear')\n",
    "svclassifier.fit(X_train, y_train)"
   ]
  },
  {
   "cell_type": "markdown",
   "id": "5e976a1d",
   "metadata": {},
   "source": [
    "# Making Predictions\n",
    "To make predictions, the predict method of the SVC class is used."
   ]
  },
  {
   "cell_type": "code",
   "execution_count": 21,
   "id": "c7e8b5fc",
   "metadata": {},
   "outputs": [],
   "source": [
    "y_pred_svc = svclassifier.predict(X_test)\n"
   ]
  },
  {
   "cell_type": "markdown",
   "id": "ae9c2e4a",
   "metadata": {},
   "source": [
    "# Evaluating the Algorithm"
   ]
  },
  {
   "cell_type": "code",
   "execution_count": 22,
   "id": "979f4374",
   "metadata": {},
   "outputs": [
    {
     "name": "stdout",
     "output_type": "stream",
     "text": [
      "accuracy score 0.7800546448087432\n"
     ]
    }
   ],
   "source": [
    "\n",
    "print('accuracy score',accuracy_score(y_test, y_pred_svc))\n",
    "\n"
   ]
  },
  {
   "cell_type": "code",
   "execution_count": null,
   "id": "981c8ba2",
   "metadata": {},
   "outputs": [],
   "source": []
  },
  {
   "cell_type": "code",
   "execution_count": 23,
   "id": "cca81166",
   "metadata": {},
   "outputs": [],
   "source": [
    "# from sklearn.preprocessing import StandardScaler\n",
    "# scaler = StandardScaler()\n",
    "# scaler.fit(X_train)\n",
    "\n",
    "# X_train = scaler.transform(X_train)\n",
    "# X_test = scaler.transform(X_test)"
   ]
  },
  {
   "cell_type": "code",
   "execution_count": null,
   "id": "79e6ce8b",
   "metadata": {},
   "outputs": [],
   "source": []
  }
 ],
 "metadata": {
  "kernelspec": {
   "display_name": "Python 3",
   "language": "python",
   "name": "python3"
  },
  "language_info": {
   "codemirror_mode": {
    "name": "ipython",
    "version": 3
   },
   "file_extension": ".py",
   "mimetype": "text/x-python",
   "name": "python",
   "nbconvert_exporter": "python",
   "pygments_lexer": "ipython3",
   "version": "3.8.8"
  }
 },
 "nbformat": 4,
 "nbformat_minor": 5
}
